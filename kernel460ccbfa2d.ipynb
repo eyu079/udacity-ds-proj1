{
 "cells": [
  {
   "cell_type": "code",
   "execution_count": 2,
   "metadata": {
    "_cell_guid": "b1076dfc-b9ad-4769-8c92-a6c4dae69d19",
    "_uuid": "8f2839f25d086af736a60e9eeb907d3b93b6e0e5"
   },
   "outputs": [
    {
     "name": "stdout",
     "output_type": "stream",
     "text": [
      "/kaggle/input/seattle/calendar.csv\n",
      "/kaggle/input/seattle/reviews.csv\n",
      "/kaggle/input/seattle/listings.csv\n"
     ]
    }
   ],
   "source": [
    "# This Python 3 environment comes with many helpful analytics libraries installed\n",
    "# It is defined by the kaggle/python docker image: https://github.com/kaggle/docker-python\n",
    "# For example, here's several helpful packages to load in \n",
    "\n",
    "import numpy as np # linear algebra\n",
    "import pandas as pd # data processing, CSV file I/O (e.g. pd.read_csv)\n",
    "import matplotlib.pyplot as plt\n",
    "import datetime\n",
    "\n",
    "# Input data files are available in the \"../input/\" directory.\n",
    "# For example, running this (by clicking run or pressing Shift+Enter) will list all files under the input directory\n",
    "\n",
    "import os\n",
    "for dirname, _, filenames in os.walk('/kaggle/input'):\n",
    "    for filename in filenames:\n",
    "        print(os.path.join(dirname, filename))\n",
    "\n",
    "# Any results you write to the current directory are saved as output."
   ]
  },
  {
   "cell_type": "code",
   "execution_count": 3,
   "metadata": {
    "_cell_guid": "79c7e3d0-c299-4dcb-8224-4455121ee9b0",
    "_uuid": "d629ff2d2480ee46fbb7e2d37f6b5fab8052498a"
   },
   "outputs": [],
   "source": [
    "df_listings = pd.read_csv(\"../input/seattle/listings.csv\")\n",
    "df_calendar = pd.read_csv(\"../input/seattle/calendar.csv\")\n",
    "df_reviews = pd.read_csv(\"../input/seattle/reviews.csv\")"
   ]
  },
  {
   "cell_type": "code",
   "execution_count": null,
   "metadata": {},
   "outputs": [],
   "source": [
    "#Which neighbour has the best scores on review ratings?\n",
    "df_listings = df_listings.dropna(subset = ['review_scores_rating'], how = 'all')\n",
    "#df_listings.groupby(['neighbourhood'])['review_scores_rating'].mean().sort_values()\n",
    "\n",
    "#Answer: According to reviews, Arbor Heights is the best neighbourhood to stay\n",
    "\n",
    "top_neigh = df_listings[['neighbourhood', 'review_scores_rating']]\n",
    "top_neigh = top_neigh.groupby(['neighbourhood']).mean().sort_values(by='review_scores_rating',ascending=False)\n",
    "(top_neigh[:10]/top_neigh.shape[0]).plot(kind=\"bar\",legend=None);\n"
   ]
  },
  {
   "cell_type": "code",
   "execution_count": null,
   "metadata": {},
   "outputs": [],
   "source": [
    "#What day of year in Seattle has most availability? i.e. least busiest time of year in the city?\n",
    "df_calendar['date'] = pd.to_datetime(df_calendar['date'])\n",
    "top_avail = df_calendar[df_calendar.available == 't'].sort_values(by=['date']);\n",
    "top_avail = top_avail.drop('listing_id',axis=1)\n",
    "top_avail = top_avail.drop('price',axis=1)\n",
    "\n",
    "top_avail = top_avail.groupby(['date']).count()\n",
    "\n",
    "\n",
    "top_avail.plot(kind='line', legend=None);\n",
    "plt.xlabel('Month');\n",
    "plt.ylabel('Availability');"
   ]
  },
  {
   "cell_type": "code",
   "execution_count": 24,
   "metadata": {},
   "outputs": [
    {
     "name": "stderr",
     "output_type": "stream",
     "text": [
      "/opt/conda/lib/python3.6/site-packages/ipykernel_launcher.py:7: SettingWithCopyWarning: \n",
      "A value is trying to be set on a copy of a slice from a DataFrame.\n",
      "Try using .loc[row_indexer,col_indexer] = value instead\n",
      "\n",
      "See the caveats in the documentation: http://pandas.pydata.org/pandas-docs/stable/user_guide/indexing.html#returning-a-view-versus-a-copy\n",
      "  import sys\n"
     ]
    },
    {
     "data": {
      "text/html": [
       "<div>\n",
       "<style scoped>\n",
       "    .dataframe tbody tr th:only-of-type {\n",
       "        vertical-align: middle;\n",
       "    }\n",
       "\n",
       "    .dataframe tbody tr th {\n",
       "        vertical-align: top;\n",
       "    }\n",
       "\n",
       "    .dataframe thead th {\n",
       "        text-align: right;\n",
       "    }\n",
       "</style>\n",
       "<table border=\"1\" class=\"dataframe\">\n",
       "  <thead>\n",
       "    <tr style=\"text-align: right;\">\n",
       "      <th></th>\n",
       "      <th>price</th>\n",
       "    </tr>\n",
       "    <tr>\n",
       "      <th>neighbourhood</th>\n",
       "      <th></th>\n",
       "    </tr>\n",
       "  </thead>\n",
       "  <tbody>\n",
       "    <tr>\n",
       "      <th>Alki</th>\n",
       "      <td>196.652174</td>\n",
       "    </tr>\n",
       "    <tr>\n",
       "      <th>Arbor Heights</th>\n",
       "      <td>118.000000</td>\n",
       "    </tr>\n",
       "    <tr>\n",
       "      <th>Atlantic</th>\n",
       "      <td>116.280000</td>\n",
       "    </tr>\n",
       "    <tr>\n",
       "      <th>Ballard</th>\n",
       "      <td>123.615023</td>\n",
       "    </tr>\n",
       "    <tr>\n",
       "      <th>Belltown</th>\n",
       "      <td>166.627451</td>\n",
       "    </tr>\n",
       "  </tbody>\n",
       "</table>\n",
       "</div>"
      ],
      "text/plain": [
       "                    price\n",
       "neighbourhood            \n",
       "Alki           196.652174\n",
       "Arbor Heights  118.000000\n",
       "Atlantic       116.280000\n",
       "Ballard        123.615023\n",
       "Belltown       166.627451"
      ]
     },
     "execution_count": 24,
     "metadata": {},
     "output_type": "execute_result"
    },
    {
     "data": {
      "image/png": "[encoded data removed]",
      "text/plain": [
       "<Figure size 432x288 with 1 Axes>"
      ]
     },
     "metadata": {
      "needs_background": "light"
     },
     "output_type": "display_data"
    }
   ],
   "source": [
    "#What is the average price per neighbour to rent in?\n",
    "fix_listings = df_listings.replace(to_replace = '[\\$,]',value = '',regex=True);\n",
    "top_price = fix_listings[['neighbourhood', 'price']];\n",
    "\n",
    "top_price['price'] = top_price['price'].astype(float);\n",
    "top_price = top_price.groupby(['neighbourhood']).mean()\n",
    "\n",
    "(top_price[:10]/top_price.shape[0]).plot(kind=\"bar\",legend=None);\n",
    "plt.ylabel('Average price (x $100)')\n",
    "top_price.head()"
   ]
  },
  {
   "cell_type": "code",
   "execution_count": null,
   "metadata": {},
   "outputs": [],
   "source": []
  }
 ],
 "metadata": {
  "kernelspec": {
   "display_name": "Python 3",
   "language": "python",
   "name": "python3"
  },
  "language_info": {
   "codemirror_mode": {
    "name": "ipython",
    "version": 3
   },
   "file_extension": ".py",
   "mimetype": "text/x-python",
   "name": "python",
   "nbconvert_exporter": "python",
   "pygments_lexer": "ipython3",
   "version": "3.7.0"
  }
 },
 "nbformat": 4,
 "nbformat_minor": 1
}
